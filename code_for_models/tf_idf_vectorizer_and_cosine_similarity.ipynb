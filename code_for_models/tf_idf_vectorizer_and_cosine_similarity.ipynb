{
 "cells": [
  {
   "cell_type": "code",
   "execution_count": 79,
   "metadata": {
    "collapsed": true,
    "ExecuteTime": {
     "end_time": "2023-11-25T21:09:39.536886900Z",
     "start_time": "2023-11-25T21:09:39.468407800Z"
    }
   },
   "outputs": [],
   "source": [
    "import pandas as pd\n",
    "from sklearn.feature_extraction.text import TfidfVectorizer\n",
    "from sklearn.model_selection import train_test_split\n",
    "from sklearn.metrics.pairwise import cosine_similarity\n",
    "import re\n",
    "from sklearn.metrics import precision_recall_fscore_support"
   ]
  },
  {
   "cell_type": "code",
   "execution_count": 2,
   "outputs": [],
   "source": [
    "movies_df = pd.read_csv(\"wiki_movie_plots_deduped.csv\")"
   ],
   "metadata": {
    "collapsed": false,
    "ExecuteTime": {
     "end_time": "2023-11-25T19:40:39.143311200Z",
     "start_time": "2023-11-25T19:40:38.502804500Z"
    }
   }
  },
  {
   "cell_type": "code",
   "execution_count": 68,
   "outputs": [],
   "source": [
    "plots = movies_df[\"Plot\"].tolist()\n",
    "\n",
    "titles = movies_df[\"Title\"].tolist()\n",
    "\n",
    "\n",
    "X_train, X_test, y_train, y_test = train_test_split(plots, titles, test_size=0.2, random_state=42)"
   ],
   "metadata": {
    "collapsed": false,
    "ExecuteTime": {
     "end_time": "2023-11-25T21:03:20.574716900Z",
     "start_time": "2023-11-25T21:03:20.550594300Z"
    }
   }
  },
  {
   "cell_type": "code",
   "execution_count": 71,
   "outputs": [],
   "source": [
    "def remove_the_punc_and_spaces(text):\n",
    "    tmp = re.sub(r'[^\\w\\s]', '', text)\n",
    "    tmp = re.sub(r'\\s+', ' ', tmp)\n",
    "    return tmp\n",
    "\n",
    "def preprocess_text(text):\n",
    "    text = text.lower()\n",
    "    return remove_the_punc_and_spaces(text)\n",
    "\n",
    "preprocessed_plots = [preprocess_text(plot) for plot in X_train]\n",
    "preprocessed_titles = [preprocess_text(title) for title in y_train]"
   ],
   "metadata": {
    "collapsed": false,
    "ExecuteTime": {
     "end_time": "2023-11-25T21:04:15.469606400Z",
     "start_time": "2023-11-25T21:04:13.048030700Z"
    }
   }
  },
  {
   "cell_type": "code",
   "execution_count": 72,
   "outputs": [],
   "source": [
    "vectorizer_tf_idf = TfidfVectorizer()\n",
    "\n",
    "plot_vectors = vectorizer_tf_idf.fit_transform(preprocessed_plots)\n",
    "title_vectors = vectorizer_tf_idf.transform(preprocessed_titles)"
   ],
   "metadata": {
    "collapsed": false,
    "ExecuteTime": {
     "end_time": "2023-11-25T21:04:31.690399500Z",
     "start_time": "2023-11-25T21:04:27.493132600Z"
    }
   }
  },
  {
   "cell_type": "code",
   "execution_count": 73,
   "outputs": [],
   "source": [
    "cosine_similarity_matrix = cosine_similarity(plot_vectors, title_vectors)"
   ],
   "metadata": {
    "collapsed": false,
    "ExecuteTime": {
     "end_time": "2023-11-25T21:05:03.138473900Z",
     "start_time": "2023-11-25T21:04:31.691400300Z"
    }
   }
  },
  {
   "cell_type": "code",
   "execution_count": 86,
   "outputs": [],
   "source": [
    "def retrieve_movie_titles(input_plot, num_top=5):\n",
    "    pre_processed_plot = preprocess_text(input_plot)\n",
    "    plot_vector = vectorizer_tf_idf.transform([pre_processed_plot])\n",
    "\n",
    "    # find the similarity between plot description and all movie titles.\n",
    "    similarity_scores = cosine_similarity(plot_vector, title_vectors)[0]\n",
    "\n",
    "    sorted_titles_and_scores = sorted(zip(titles, similarity_scores), key=lambda x: x[1], reverse=True)\n",
    "\n",
    "    top_5_movies = [title for title, score in sorted_titles_and_scores[:num_top]]\n",
    "\n",
    "    return top_5_movies"
   ],
   "metadata": {
    "collapsed": false,
    "ExecuteTime": {
     "end_time": "2023-11-25T21:15:52.681626Z",
     "start_time": "2023-11-25T21:15:52.665503700Z"
    }
   }
  },
  {
   "cell_type": "code",
   "execution_count": 92,
   "outputs": [],
   "source": [
    "def evaluate_model(num_top=5):\n",
    "    true_labels = y_test\n",
    "\n",
    "    prediction_labels = []\n",
    "\n",
    "    for plot in X_test:\n",
    "        prediction_labels.append(retrieve_movie_titles(plot, num_top=num_top))\n",
    "\n",
    "    correct_predictions = 0\n",
    "    for true_label, predicted_labels in zip(true_labels, prediction_labels):\n",
    "        if true_label in predicted_labels:\n",
    "            correct_predictions += 1\n",
    "\n",
    "    return correct_predictions / len(true_labels)\n"
   ],
   "metadata": {
    "collapsed": false,
    "ExecuteTime": {
     "end_time": "2023-11-25T21:20:37.029054Z",
     "start_time": "2023-11-25T21:20:37.013566400Z"
    }
   }
  },
  {
   "cell_type": "code",
   "execution_count": 109,
   "outputs": [
    {
     "name": "stdout",
     "output_type": "stream",
     "text": [
      "Percentage of correct predictions based on top 5 similarity scores: 1.4330753797649758%\n"
     ]
    }
   ],
   "source": [
    "n = 5\n",
    "print(f\"Percentage of correct predictions based on top {n} similarity scores: {evaluate_model(n) * 100}%\")"
   ],
   "metadata": {
    "collapsed": false,
    "ExecuteTime": {
     "end_time": "2023-11-25T23:47:19.372361Z",
     "start_time": "2023-11-25T23:45:50.305544500Z"
    }
   }
  },
  {
   "cell_type": "code",
   "execution_count": 110,
   "outputs": [
    {
     "name": "stdout",
     "output_type": "stream",
     "text": [
      "Percentage of correct predictions based on top 10 similarity scores: 2.8661507595299516%\n"
     ]
    }
   ],
   "source": [
    "n = 10\n",
    "print(f\"Percentage of correct predictions based on top {n} similarity scores: {evaluate_model(n) * 100}%\")"
   ],
   "metadata": {
    "collapsed": false,
    "ExecuteTime": {
     "end_time": "2023-11-25T23:48:49.397964Z",
     "start_time": "2023-11-25T23:47:19.375360800Z"
    }
   }
  },
  {
   "cell_type": "code",
   "execution_count": 111,
   "outputs": [
    {
     "name": "stdout",
     "output_type": "stream",
     "text": [
      "Percentage of correct predictions based on top 15 similarity scores: 8.598452278589853%\n"
     ]
    }
   ],
   "source": [
    "n = 15\n",
    "print(f\"Percentage of correct predictions based on top {n} similarity scores: {evaluate_model(n) * 100}%\")"
   ],
   "metadata": {
    "collapsed": false,
    "ExecuteTime": {
     "end_time": "2023-11-25T23:50:21.154720700Z",
     "start_time": "2023-11-25T23:48:49.397964Z"
    }
   }
  },
  {
   "cell_type": "code",
   "execution_count": 112,
   "outputs": [
    {
     "name": "stdout",
     "output_type": "stream",
     "text": [
      "Percentage of correct predictions based on top 20 similarity scores: 8.598452278589853%\n"
     ]
    }
   ],
   "source": [
    "n = 20\n",
    "print(f\"Percentage of correct predictions based on top {n} similarity scores: {evaluate_model(n) * 100}%\")"
   ],
   "metadata": {
    "collapsed": false,
    "ExecuteTime": {
     "end_time": "2023-11-25T23:51:47.914436400Z",
     "start_time": "2023-11-25T23:50:21.165585400Z"
    }
   }
  },
  {
   "cell_type": "code",
   "execution_count": 113,
   "outputs": [
    {
     "name": "stdout",
     "output_type": "stream",
     "text": [
      "Percentage of correct predictions based on top 30 similarity scores: 17.196904557179707%\n"
     ]
    }
   ],
   "source": [
    "n = 30\n",
    "print(f\"Percentage of correct predictions based on top {n} similarity scores: {evaluate_model(n) * 100}%\")"
   ],
   "metadata": {
    "collapsed": false,
    "ExecuteTime": {
     "end_time": "2023-11-25T23:53:17.591251400Z",
     "start_time": "2023-11-25T23:51:47.914436400Z"
    }
   }
  },
  {
   "cell_type": "code",
   "execution_count": 114,
   "outputs": [
    {
     "name": "stdout",
     "output_type": "stream",
     "text": [
      "Percentage of correct predictions based on top 50 similarity scores: 20.063055316709658%\n"
     ]
    }
   ],
   "source": [
    "n = 50\n",
    "print(f\"Percentage of correct predictions based on top {n} similarity scores: {evaluate_model(n) * 100}%\")"
   ],
   "metadata": {
    "collapsed": false,
    "ExecuteTime": {
     "end_time": "2023-11-25T23:54:46.547851700Z",
     "start_time": "2023-11-25T23:53:17.593252900Z"
    }
   }
  },
  {
   "cell_type": "code",
   "execution_count": 115,
   "outputs": [
    {
     "name": "stdout",
     "output_type": "stream",
     "text": [
      "Percentage of correct predictions based on top 75 similarity scores: 34.393809114359414%\n"
     ]
    }
   ],
   "source": [
    "n = 75\n",
    "print(f\"Percentage of correct predictions based on top {n} similarity scores: {evaluate_model(n) * 100}%\")"
   ],
   "metadata": {
    "collapsed": false,
    "ExecuteTime": {
     "end_time": "2023-11-25T23:56:16.695988700Z",
     "start_time": "2023-11-25T23:54:46.551852100Z"
    }
   }
  },
  {
   "cell_type": "code",
   "execution_count": 116,
   "outputs": [
    {
     "name": "stdout",
     "output_type": "stream",
     "text": [
      "Percentage of correct predictions based on top 100 similarity scores: 40.126110633419316%\n"
     ]
    }
   ],
   "source": [
    "n = 100\n",
    "print(f\"Percentage of correct predictions based on top {n} similarity scores: {evaluate_model(n) * 100}%\")"
   ],
   "metadata": {
    "collapsed": false,
    "ExecuteTime": {
     "end_time": "2023-11-25T23:57:48.019276400Z",
     "start_time": "2023-11-25T23:56:16.700989500Z"
    }
   }
  },
  {
   "cell_type": "code",
   "execution_count": 117,
   "outputs": [
    {
     "name": "stdout",
     "output_type": "stream",
     "text": [
      "Percentage of correct predictions based on top 120 similarity scores: 47.29148753224419%\n"
     ]
    }
   ],
   "source": [
    "n = 120\n",
    "print(f\"Percentage of correct predictions based on top {n} similarity scores: {evaluate_model(n) * 100}%\")"
   ],
   "metadata": {
    "collapsed": false,
    "ExecuteTime": {
     "end_time": "2023-11-25T23:59:15.848089300Z",
     "start_time": "2023-11-25T23:57:48.023275500Z"
    }
   }
  },
  {
   "cell_type": "code",
   "execution_count": 118,
   "outputs": [
    {
     "name": "stdout",
     "output_type": "stream",
     "text": [
      "Percentage of correct predictions based on top 150 similarity scores: 55.88993981083406%\n"
     ]
    }
   ],
   "source": [
    "n = 150\n",
    "print(f\"Percentage of correct predictions based on top {n} similarity scores: {evaluate_model(n) * 100}%\")"
   ],
   "metadata": {
    "collapsed": false,
    "ExecuteTime": {
     "end_time": "2023-11-26T00:02:24.577459300Z",
     "start_time": "2023-11-25T23:59:15.854089100Z"
    }
   }
  },
  {
   "cell_type": "code",
   "execution_count": 119,
   "outputs": [
    {
     "name": "stdout",
     "output_type": "stream",
     "text": [
      "Percentage of correct predictions based on top 200 similarity scores: 73.08684436801376%\n"
     ]
    }
   ],
   "source": [
    "n = 200\n",
    "print(f\"Percentage of correct predictions based on top {n} similarity scores: {evaluate_model(n) * 100}%\")"
   ],
   "metadata": {
    "collapsed": false,
    "ExecuteTime": {
     "end_time": "2023-11-26T00:06:11.258645Z",
     "start_time": "2023-11-26T00:02:24.572552700Z"
    }
   }
  },
  {
   "cell_type": "code",
   "execution_count": 120,
   "outputs": [
    {
     "name": "stdout",
     "output_type": "stream",
     "text": [
      "Percentage of correct predictions based on top 250 similarity scores: 88.85067354542848%\n"
     ]
    }
   ],
   "source": [
    "n = 250\n",
    "print(f\"Percentage of correct predictions based on top {n} similarity scores: {evaluate_model(n) * 100}%\")"
   ],
   "metadata": {
    "collapsed": false,
    "ExecuteTime": {
     "end_time": "2023-11-26T00:08:37.677952100Z",
     "start_time": "2023-11-26T00:06:11.272544400Z"
    }
   }
  },
  {
   "cell_type": "code",
   "execution_count": 121,
   "outputs": [
    {
     "name": "stdout",
     "output_type": "stream",
     "text": [
      "Percentage of correct predictions based on top 300 similarity scores: 97.44912582401835%\n"
     ]
    }
   ],
   "source": [
    "n = 300\n",
    "print(f\"Percentage of correct predictions based on top {n} similarity scores: {evaluate_model(n) * 100}%\")"
   ],
   "metadata": {
    "collapsed": false,
    "ExecuteTime": {
     "end_time": "2023-11-26T00:12:52.312440300Z",
     "start_time": "2023-11-26T00:08:37.675129500Z"
    }
   }
  },
  {
   "cell_type": "code",
   "execution_count": null,
   "outputs": [],
   "source": [],
   "metadata": {
    "collapsed": false
   }
  }
 ],
 "metadata": {
  "kernelspec": {
   "display_name": "Python 3",
   "language": "python",
   "name": "python3"
  },
  "language_info": {
   "codemirror_mode": {
    "name": "ipython",
    "version": 2
   },
   "file_extension": ".py",
   "mimetype": "text/x-python",
   "name": "python",
   "nbconvert_exporter": "python",
   "pygments_lexer": "ipython2",
   "version": "2.7.6"
  }
 },
 "nbformat": 4,
 "nbformat_minor": 0
}
