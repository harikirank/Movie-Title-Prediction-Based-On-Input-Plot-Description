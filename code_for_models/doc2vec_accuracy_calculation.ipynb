{
 "cells": [
  {
   "cell_type": "code",
   "execution_count": 12,
   "metadata": {
    "collapsed": true,
    "ExecuteTime": {
     "end_time": "2023-11-26T22:24:00.368493900Z",
     "start_time": "2023-11-26T22:23:59.427700900Z"
    }
   },
   "outputs": [],
   "source": [
    "from gensim.models import Doc2Vec\n",
    "import gensim\n",
    "import pandas as pd\n",
    "\n",
    "# Load the pre-trained Doc2Vec model\n",
    "model_path = 'model_all_data/doc2vec_whole_data_set.model'  # Replace with the path to your model file\n",
    "doc2vec_model = Doc2Vec.load(model_path)\n"
   ]
  },
  {
   "cell_type": "code",
   "execution_count": 13,
   "outputs": [],
   "source": [
    "model = Doc2Vec.load(model_path)"
   ],
   "metadata": {
    "collapsed": false,
    "ExecuteTime": {
     "end_time": "2023-11-26T22:24:02.783946900Z",
     "start_time": "2023-11-26T22:24:01.787782400Z"
    }
   }
  },
  {
   "cell_type": "code",
   "execution_count": 14,
   "outputs": [],
   "source": [
    "df = pd.read_csv(\"wiki_movie_plots_deduped.csv\", sep=\",\")\n",
    "test_df = pd.read_csv(\"Test_Data_Doc2vec.csv\", sep=\",\")"
   ],
   "metadata": {
    "collapsed": false,
    "ExecuteTime": {
     "end_time": "2023-11-26T22:24:03.515639300Z",
     "start_time": "2023-11-26T22:24:02.785946800Z"
    }
   }
  },
  {
   "cell_type": "code",
   "execution_count": 26,
   "outputs": [],
   "source": [
    "def evaluate_model():\n",
    "    correct_predictions = 0\n",
    "    for true_label, plot in zip(test_df['Title'].values, test_df['Plot'].values):\n",
    "        predicted_labels = []\n",
    "\n",
    "        plt = gensim.parsing.preprocessing.preprocess_string(plot)\n",
    "        test_doc_vector = model.infer_vector(plt)\n",
    "        sims = model.docvecs.most_similar(positive=[test_doc_vector])\n",
    "        for s in sims:\n",
    "            predicted_labels.append(df['Title'].iloc[s[0]])\n",
    "\n",
    "        if true_label in predicted_labels:\n",
    "            correct_predictions += 1\n",
    "\n",
    "    return round(correct_predictions / len(test_df['Plot'].values) * 100)"
   ],
   "metadata": {
    "collapsed": false,
    "ExecuteTime": {
     "end_time": "2023-11-26T22:27:09.889556300Z",
     "start_time": "2023-11-26T22:27:09.870142500Z"
    }
   }
  },
  {
   "cell_type": "code",
   "execution_count": 28,
   "outputs": [
    {
     "name": "stdout",
     "output_type": "stream",
     "text": [
      "The model has an accuracy of 100%\n"
     ]
    },
    {
     "name": "stderr",
     "output_type": "stream",
     "text": [
      "C:\\Users\\keert\\AppData\\Local\\Temp\\ipykernel_21656\\110230288.py:8: DeprecationWarning: Call to deprecated `docvecs` (The `docvecs` property has been renamed `dv`.).\n",
      "  sims = model.docvecs.most_similar(positive=[test_doc_vector])\n"
     ]
    }
   ],
   "source": [
    "print(f\"The model has an accuracy of {evaluate_model()}%\")"
   ],
   "metadata": {
    "collapsed": false,
    "ExecuteTime": {
     "end_time": "2023-11-26T22:27:32.410624600Z",
     "start_time": "2023-11-26T22:27:32.238883400Z"
    }
   }
  }
 ],
 "metadata": {
  "kernelspec": {
   "display_name": "Python 3",
   "language": "python",
   "name": "python3"
  },
  "language_info": {
   "codemirror_mode": {
    "name": "ipython",
    "version": 2
   },
   "file_extension": ".py",
   "mimetype": "text/x-python",
   "name": "python",
   "nbconvert_exporter": "python",
   "pygments_lexer": "ipython2",
   "version": "2.7.6"
  }
 },
 "nbformat": 4,
 "nbformat_minor": 0
}
