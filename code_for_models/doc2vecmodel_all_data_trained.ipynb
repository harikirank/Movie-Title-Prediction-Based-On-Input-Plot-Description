{
 "metadata": {
  "kernelspec": {
   "language": "python",
   "display_name": "Python 3",
   "name": "python3"
  },
  "language_info": {
   "name": "python",
   "version": "3.10.12",
   "mimetype": "text/x-python",
   "codemirror_mode": {
    "name": "ipython",
    "version": 3
   },
   "pygments_lexer": "ipython3",
   "nbconvert_exporter": "python",
   "file_extension": ".py"
  },
  "kaggle": {
   "accelerator": "none",
   "dataSources": [
    {
     "sourceId": 127736,
     "sourceType": "datasetVersion",
     "datasetId": 64890
    }
   ],
   "dockerImageVersionId": 30587,
   "isInternetEnabled": true,
   "language": "python",
   "sourceType": "notebook",
   "isGpuEnabled": false
  }
 },
 "nbformat_minor": 4,
 "nbformat": 4,
 "cells": [
  {
   "cell_type": "code",
   "source": [
    "import pandas as pd\n",
    "import gensim\n",
    "from gensim.parsing.preprocessing import preprocess_documents\n",
    "from gensim.models.doc2vec import Doc2Vec, TaggedDocument"
   ],
   "metadata": {
    "_uuid": "8f2839f25d086af736a60e9eeb907d3b93b6e0e5",
    "_cell_guid": "b1076dfc-b9ad-4769-8c92-a6c4dae69d19",
    "execution": {
     "iopub.status.busy": "2023-11-26T04:23:56.987898Z",
     "iopub.execute_input": "2023-11-26T04:23:56.988964Z",
     "iopub.status.idle": "2023-11-26T04:23:56.995606Z",
     "shell.execute_reply.started": "2023-11-26T04:23:56.988917Z",
     "shell.execute_reply": "2023-11-26T04:23:56.993608Z"
    },
    "trusted": true
   },
   "execution_count": 2,
   "outputs": []
  },
  {
   "cell_type": "code",
   "source": [
    "movies_df = pd.read_csv(\"/kaggle/input/wikipedia-movie-plots/wiki_movie_plots_deduped.csv\", sep=\",\")"
   ],
   "metadata": {
    "execution": {
     "iopub.status.busy": "2023-11-26T04:24:56.829628Z",
     "iopub.execute_input": "2023-11-26T04:24:56.830046Z",
     "iopub.status.idle": "2023-11-26T04:24:59.078714Z",
     "shell.execute_reply.started": "2023-11-26T04:24:56.830015Z",
     "shell.execute_reply": "2023-11-26T04:24:59.077627Z"
    },
    "trusted": true
   },
   "execution_count": 4,
   "outputs": []
  },
  {
   "cell_type": "code",
   "source": [
    "movies_df.info()"
   ],
   "metadata": {
    "execution": {
     "iopub.status.busy": "2023-11-26T04:25:07.647407Z",
     "iopub.execute_input": "2023-11-26T04:25:07.648720Z",
     "iopub.status.idle": "2023-11-26T04:25:07.705335Z",
     "shell.execute_reply.started": "2023-11-26T04:25:07.648684Z",
     "shell.execute_reply": "2023-11-26T04:25:07.703999Z"
    },
    "trusted": true
   },
   "execution_count": 5,
   "outputs": [
    {
     "name": "stdout",
     "text": "<class 'pandas.core.frame.DataFrame'>\nRangeIndex: 34886 entries, 0 to 34885\nData columns (total 8 columns):\n #   Column            Non-Null Count  Dtype \n---  ------            --------------  ----- \n 0   Release Year      34886 non-null  int64 \n 1   Title             34886 non-null  object\n 2   Origin/Ethnicity  34886 non-null  object\n 3   Director          34886 non-null  object\n 4   Cast              33464 non-null  object\n 5   Genre             34886 non-null  object\n 6   Wiki Page         34886 non-null  object\n 7   Plot              34886 non-null  object\ndtypes: int64(1), object(7)\nmemory usage: 2.1+ MB\n",
     "output_type": "stream"
    }
   ]
  },
  {
   "cell_type": "markdown",
   "source": [
    "# Code to create the Doc2Vec Model"
   ],
   "metadata": {}
  },
  {
   "cell_type": "code",
   "source": [
    "plot_text = movies_df[\"Plot\"].values\n",
    "text_processed = preprocess_documents(plot_text)"
   ],
   "metadata": {
    "execution": {
     "iopub.status.busy": "2023-11-26T04:26:02.745663Z",
     "iopub.execute_input": "2023-11-26T04:26:02.746943Z",
     "iopub.status.idle": "2023-11-26T04:27:18.708122Z",
     "shell.execute_reply.started": "2023-11-26T04:26:02.746903Z",
     "shell.execute_reply": "2023-11-26T04:27:18.707159Z"
    },
    "trusted": true
   },
   "execution_count": 7,
   "outputs": []
  },
  {
   "cell_type": "markdown",
   "source": [
    "# Tagging the documents with TaggedDocument Class"
   ],
   "metadata": {}
  },
  {
   "cell_type": "code",
   "source": [
    "tagged_docs = [TaggedDocument(d, [i]) for i, d in enumerate(text_processed)]"
   ],
   "metadata": {
    "execution": {
     "iopub.status.busy": "2023-11-26T04:27:18.710042Z",
     "iopub.execute_input": "2023-11-26T04:27:18.710738Z",
     "iopub.status.idle": "2023-11-26T04:27:19.110480Z",
     "shell.execute_reply.started": "2023-11-26T04:27:18.710705Z",
     "shell.execute_reply": "2023-11-26T04:27:19.108958Z"
    },
    "trusted": true
   },
   "execution_count": 8,
   "outputs": []
  },
  {
   "cell_type": "markdown",
   "source": [
    "# Building the doc2vec model"
   ],
   "metadata": {}
  },
  {
   "cell_type": "code",
   "source": [
    "doc2vec_model = Doc2Vec(tagged_docs, dm=0, vector_size=200, window=2, min_count=1, epochs=100, hs=1)"
   ],
   "metadata": {
    "execution": {
     "iopub.status.busy": "2023-11-26T04:29:46.257598Z",
     "iopub.execute_input": "2023-11-26T04:29:46.258113Z",
     "iopub.status.idle": "2023-11-26T05:02:54.348116Z",
     "shell.execute_reply.started": "2023-11-26T04:29:46.258079Z",
     "shell.execute_reply": "2023-11-26T05:02:54.347099Z"
    },
    "trusted": true
   },
   "execution_count": 9,
   "outputs": []
  },
  {
   "cell_type": "markdown",
   "source": [
    "# Saving the model."
   ],
   "metadata": {}
  },
  {
   "cell_type": "code",
   "source": [
    "doc2vec_model.save('doc2vec_whole_data_set.model')"
   ],
   "metadata": {
    "execution": {
     "iopub.status.busy": "2023-11-26T05:02:55.123391Z",
     "iopub.execute_input": "2023-11-26T05:02:55.123944Z",
     "iopub.status.idle": "2023-11-26T05:02:56.546754Z",
     "shell.execute_reply.started": "2023-11-26T05:02:55.123896Z",
     "shell.execute_reply": "2023-11-26T05:02:56.545770Z"
    },
    "trusted": true
   },
   "execution_count": 10,
   "outputs": []
  }
 ]
}
