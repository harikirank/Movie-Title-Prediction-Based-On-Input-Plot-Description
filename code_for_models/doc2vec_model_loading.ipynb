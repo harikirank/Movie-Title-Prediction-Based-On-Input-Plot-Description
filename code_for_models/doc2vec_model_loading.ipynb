{
 "cells": [
  {
   "cell_type": "code",
   "execution_count": 3,
   "metadata": {
    "collapsed": true,
    "ExecuteTime": {
     "end_time": "2023-11-26T04:06:35.617272300Z",
     "start_time": "2023-11-26T04:06:35.033866200Z"
    }
   },
   "outputs": [],
   "source": [
    "from gensim.models import Doc2Vec\n",
    "import gensim\n",
    "import pandas as pd\n",
    "\n",
    "# Load the pre-trained Doc2Vec model\n",
    "model_path = 'model/title_prediction_from_plot.model'  # Replace with the path to your model file\n",
    "doc2vec_model = Doc2Vec.load(model_path)\n"
   ]
  },
  {
   "cell_type": "code",
   "execution_count": 21,
   "outputs": [],
   "source": [
    "model = Doc2Vec.load(model_path)"
   ],
   "metadata": {
    "collapsed": false,
    "ExecuteTime": {
     "end_time": "2023-11-26T04:20:03.674667700Z",
     "start_time": "2023-11-26T04:20:03.198933400Z"
    }
   }
  },
  {
   "cell_type": "code",
   "execution_count": 23,
   "outputs": [],
   "source": [
    "df = pd.read_csv(\"wiki_movie_plots_deduped.csv\", sep=\",\")\n",
    "df = df[df[\"Release Year\"] >= 2001]"
   ],
   "metadata": {
    "collapsed": false,
    "ExecuteTime": {
     "end_time": "2023-11-26T04:22:05.070586500Z",
     "start_time": "2023-11-26T04:22:04.349430400Z"
    }
   }
  },
  {
   "cell_type": "code",
   "execution_count": 26,
   "outputs": [
    {
     "name": "stdout",
     "output_type": "stream",
     "text": [
      "0.4865003824234009 | High School\n",
      "0.33190497756004333 | Aadesh - Power Of Law\n",
      "0.3123651146888733 | Detective\n",
      "0.30919748544692993 | 21 Jump Street\n",
      "0.30316826701164246 | Ami Shudhu Cheyechi Tomay\n",
      "0.3031538426876068 | Gemini\n",
      "0.30250290036201477 | The Lightkeepers\n",
      "0.30019131302833557 | Nagarvalam\n",
      "0.29758214950561523 | Thank You for Smoking\n",
      "0.2926315367221832 | Chasing\n"
     ]
    },
    {
     "name": "stderr",
     "output_type": "stream",
     "text": [
      "C:\\Users\\keert\\AppData\\Local\\Temp\\ipykernel_19904\\1405256419.py:10: DeprecationWarning: Call to deprecated `docvecs` (The `docvecs` property has been renamed `dv`.).\n",
      "  sims = doc2vec_model.docvecs.most_similar(positive = [test_doc_vector])\n"
     ]
    }
   ],
   "source": [
    "new_doc = \"\"\"\n",
    "In the story, high school student Henry Burke, set to become the valedictorian, experiences his first encounter with marijuana alongside his former best friend Travis. However, their decision comes with unexpected consequences when the school announces a mandatory drug test after a spelling bee champion's drug use incident.\n",
    "\n",
    "Fearing expulsion, Henry and Travis devise a risky plan. They aim to foil the drug test by orchestrating a school-wide marijuana consumption using a potent strain called \"kief,\" procured from a notorious drug dealer named Psycho Ed. Their goal is to render the test results invalid and safeguard Henry's academic future.\n",
    "\n",
    "As they execute their unconventional scheme, Psycho Ed begins pursuing them, leading to a tense chase. Meanwhile, the school's dean, Dr. Gordon, also becomes involved in the pursuit, adding further complications to their daring plan.\n",
    "\"\"\"\n",
    "new_doc = gensim.parsing.preprocessing.preprocess_string(new_doc)\n",
    "test_doc_vector = doc2vec_model.infer_vector(new_doc)\n",
    "sims = doc2vec_model.docvecs.most_similar(positive = [test_doc_vector])\n",
    "for s in sims:\n",
    "    print(f\"{(s[1])} | {df['Title'].iloc[s[0]]}\")"
   ],
   "metadata": {
    "collapsed": false,
    "ExecuteTime": {
     "end_time": "2023-11-26T04:23:18.742311600Z",
     "start_time": "2023-11-26T04:23:18.694926200Z"
    }
   }
  },
  {
   "cell_type": "code",
   "execution_count": 20,
   "outputs": [
    {
     "name": "stdout",
     "output_type": "stream",
     "text": [
      "10552\n",
      "0.499544233083725 | Jake Speed\n",
      "10567\n",
      "0.35133326053619385 | Maximum Overdrive\n",
      "10203\n",
      "0.3487285077571869 | The Evil That Men Do\n",
      "7607\n",
      "0.3485213816165924 | Hell Is for Heroes\n",
      "9130\n",
      "0.3410016596317291 | Crazy Mama\n",
      "7099\n",
      "0.34069526195526123 | Return to Warbow\n",
      "7488\n",
      "0.33673572540283203 | Goodbye Again\n",
      "6658\n",
      "0.33334609866142273 | The Steel Jungle\n",
      "6480\n",
      "0.3327034115791321 | The Boss\n",
      "9753\n",
      "0.3314167857170105 | Private Benjamin\n"
     ]
    },
    {
     "name": "stderr",
     "output_type": "stream",
     "text": [
      "C:\\Users\\keert\\AppData\\Local\\Temp\\ipykernel_19904\\3865167134.py:6: DeprecationWarning: Call to deprecated `docvecs` (The `docvecs` property has been renamed `dv`.).\n",
      "  sims = doc2vec_model.docvecs.most_similar(positive = [test_doc_vector])\n"
     ]
    }
   ],
   "source": [
    "new_doc = \"\"\"\n",
    "250 billion. A rich man who have a son harsha.Harsha Vardhan. He is very ground to earth and polite person and friendly with each and everyone. He loves a girl. she rejects and tolds.After he meets Charuseela at his friend Apparao's birthday party, he enrolls in a university course\n",
    "\"\"\"\n",
    "new_doc = gensim.parsing.preprocessing.preprocess_string(new_doc)\n",
    "test_doc_vector = doc2vec_model.infer_vector(new_doc)\n",
    "sims = doc2vec_model.docvecs.most_similar(positive = [test_doc_vector])\n",
    "for s in sims:\n",
    "    print(s[0])\n",
    "    print(f\"{(s[1])} | {df['Title'].iloc[s[0]]}\")"
   ],
   "metadata": {
    "collapsed": false,
    "ExecuteTime": {
     "end_time": "2023-11-26T04:19:00.815688300Z",
     "start_time": "2023-11-26T04:19:00.763100500Z"
    }
   }
  },
  {
   "cell_type": "code",
   "execution_count": 22,
   "outputs": [
    {
     "name": "stdout",
     "output_type": "stream",
     "text": [
      "0.4945340156555176 | Jake Speed\n",
      "0.3512534201145172 | Hell Is for Heroes\n",
      "0.34913820028305054 | Maximum Overdrive\n",
      "0.34015417098999023 | The Evil That Men Do\n",
      "0.33796408772468567 | The Boss\n",
      "0.33732545375823975 | Crazy Mama\n",
      "0.336323082447052 | Return to Warbow\n",
      "0.3356098234653473 | Goodbye Again\n",
      "0.33423736691474915 | Howard the Duck\n",
      "0.33313870429992676 | The Steel Jungle\n"
     ]
    },
    {
     "name": "stderr",
     "output_type": "stream",
     "text": [
      "C:\\Users\\keert\\AppData\\Local\\Temp\\ipykernel_19904\\2230741112.py:6: DeprecationWarning: Call to deprecated `docvecs` (The `docvecs` property has been renamed `dv`.).\n",
      "  sims = model.docvecs.most_similar(positive = [test_doc_vector])\n"
     ]
    }
   ],
   "source": [
    "new_doc = \"\"\"\n",
    "250 billion. A rich man who have a son harsha.Harsha Vardhan. He is very ground to earth and polite person and friendly with each and everyone. He loves a girl. she rejects and tolds.After he meets Charuseela at his friend Apparao's birthday party, he enrolls in a university course\n",
    "\"\"\"\n",
    "new_doc = gensim.parsing.preprocessing.preprocess_string(new_doc)\n",
    "test_doc_vector = model.infer_vector(new_doc)\n",
    "sims = model.docvecs.most_similar(positive = [test_doc_vector])\n",
    "for s in sims:\n",
    "    print(f\"{(s[1])} | {df['Title'].iloc[s[0]]}\")"
   ],
   "metadata": {
    "collapsed": false,
    "ExecuteTime": {
     "end_time": "2023-11-26T04:20:07.175443200Z",
     "start_time": "2023-11-26T04:20:07.157696700Z"
    }
   }
  },
  {
   "cell_type": "code",
   "execution_count": null,
   "outputs": [],
   "source": [],
   "metadata": {
    "collapsed": false
   }
  }
 ],
 "metadata": {
  "kernelspec": {
   "display_name": "Python 3",
   "language": "python",
   "name": "python3"
  },
  "language_info": {
   "codemirror_mode": {
    "name": "ipython",
    "version": 2
   },
   "file_extension": ".py",
   "mimetype": "text/x-python",
   "name": "python",
   "nbconvert_exporter": "python",
   "pygments_lexer": "ipython2",
   "version": "2.7.6"
  }
 },
 "nbformat": 4,
 "nbformat_minor": 0
}
